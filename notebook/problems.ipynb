{
 "cells": [
  {
   "cell_type": "markdown",
   "id": "ac622319",
   "metadata": {},
   "source": [
    "# Descriptive statistics problems"
   ]
  },
  {
   "cell_type": "markdown",
   "id": "5e0ab0d5",
   "metadata": {},
   "source": [
    "### Exercise 1\n",
    "\n",
    "Utilizaremos NumPy para obtener información para describir estadísticamente.\n",
    "\n",
    "- Generar un array de 100 elementos siguiendo una distribución normal.\n",
    "- Generar un array de 100 elementos siguiendo una distribución chi-cuadrado con 3 grados de libertad.\n",
    "- Calcular las principales métricas y medidas estadísticas que mejor describan los dos vectores."
   ]
  },
  {
   "cell_type": "code",
   "execution_count": 14,
   "id": "34720ab6",
   "metadata": {},
   "outputs": [
    {
     "name": "stdout",
     "output_type": "stream",
     "text": [
      "        Desviancion Estandar     Media   Mediana  Varianza  Valor Minimo  \\\n",
      "Normal              1.090282 -0.063288 -0.069258  1.188714     -2.465706   \n",
      "Chi                 2.166718  2.792299  2.288946  4.694667      0.104209   \n",
      "\n",
      "        Valor Maximo      Mode  Percentil 25  Percentile 75  \n",
      "Normal      2.971001 -0.507291     -0.831086       0.629576  \n",
      "Chi         9.066714  0.553567      1.014572       4.000279  \n"
     ]
    }
   ],
   "source": [
    "import numpy as np \n",
    "import statistics as stats \n",
    "import pandas as pd \n",
    "\n",
    "n = 100\n",
    "mean = 0 \n",
    "std = 1\n",
    "\n",
    "normal_array = np.random.normal(loc=mean, scale=std, size=n)\n",
    "\n",
    "degrees = 3\n",
    "\n",
    "chi_array = np.random.chisquare(df=degrees, size=n)\n",
    "\n",
    "\n",
    "def metrics_calc(array): \n",
    "\n",
    "    return {\n",
    "            'Desviancion Estandar': np.std(array),\n",
    "            'Media': np.mean(array),\n",
    "            'Mediana': np.median(array),\n",
    "            'Varianza': np.var(array),\n",
    "            'Valor Minimo': np.min(array),\n",
    "            'Valor Maximo': np.max(array),\n",
    "            'Mode': stats.mode(array),\n",
    "            'Percentil 25': np.percentile(array, 25),\n",
    "            'Percentile 75': np.percentile(array, 75),\n",
    "    }\n",
    "\n",
    "metrics_normal = metrics_calc(normal_array)\n",
    "metrics_chi = metrics_calc(chi_array)\n",
    "\n",
    "#print(metrics_normal)\n",
    "\n",
    "result = pd.DataFrame(\n",
    "    [metrics_normal, metrics_chi],\n",
    "    index=['Normal', 'Chi']\n",
    ")\n",
    "\n",
    "print(result)"
   ]
  },
  {
   "cell_type": "code",
   "execution_count": 15,
   "id": "4d5d65bf",
   "metadata": {},
   "outputs": [
    {
     "name": "stdout",
     "output_type": "stream",
     "text": [
      "Asimetria normal: 0.10944103641736691\n",
      "Asimetria chi: 0.9045908665982085\n",
      "Normal kurtosis: -0.3313669144517801\n",
      "Chi kurtosis: 0.12657010119478063\n"
     ]
    }
   ],
   "source": [
    "#Curtosis y asimetrica\n",
    "from scipy.stats import skew\n",
    "\n",
    "skew_normal = skew(normal_array)\n",
    "\n",
    "skew_chi = skew(chi_array)\n",
    "\n",
    "print(f'Asimetria normal: {skew_normal}')\n",
    "print(f'Asimetria chi: {skew_chi}')\n",
    "\n",
    "\n",
    "from scipy.stats import kurtosis\n",
    "\n",
    "kurt_normal = kurtosis(normal_array)\n",
    "kurt_chi = kurtosis(chi_array)\n",
    "\n",
    "print(f\"Normal kurtosis: {kurt_normal}\")\n",
    "print(f\"Chi kurtosis: {kurt_chi}\")"
   ]
  },
  {
   "cell_type": "markdown",
   "id": "46c70c3d",
   "metadata": {},
   "source": [
    "### Exercise 2\n",
    "\n",
    "Escriba un programa en Python para calcular la desviación estándar de los siguientes datos:\n",
    "\n",
    "```py\n",
    "data = [4, 2, 5, 8, 6]\n",
    "```"
   ]
  },
  {
   "cell_type": "code",
   "execution_count": 16,
   "id": "d590308e",
   "metadata": {},
   "outputs": [
    {
     "name": "stdout",
     "output_type": "stream",
     "text": [
      "La desviacion estamdar de los datos es: 2.0\n"
     ]
    }
   ],
   "source": [
    "import math\n",
    "\n",
    "data = [4, 2, 5, 8, 6]\n",
    "\n",
    "media = sum(data) / len(data)\n",
    "\n",
    "suma = sum((x - media) ** 2 for x in data)\n",
    "\n",
    "std = math.sqrt(suma / len(data))\n",
    "\n",
    "print(f'La desviacion estamdar de los datos es: {std}')"
   ]
  }
 ],
 "metadata": {
  "kernelspec": {
   "display_name": "Python 3",
   "language": "python",
   "name": "python3"
  },
  "language_info": {
   "codemirror_mode": {
    "name": "ipython",
    "version": 3
   },
   "file_extension": ".py",
   "mimetype": "text/x-python",
   "name": "python",
   "nbconvert_exporter": "python",
   "pygments_lexer": "ipython3",
   "version": "3.11.4"
  }
 },
 "nbformat": 4,
 "nbformat_minor": 5
}
